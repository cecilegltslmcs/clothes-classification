{
 "cells": [
  {
   "cell_type": "code",
   "execution_count": 1,
   "id": "08a60b37",
   "metadata": {},
   "outputs": [
    {
     "name": "stderr",
     "output_type": "stream",
     "text": [
      "2023-11-20 10:41:02.212967: I external/local_tsl/tsl/cuda/cudart_stub.cc:31] Could not find cuda drivers on your machine, GPU will not be used.\n",
      "2023-11-20 10:41:02.253705: E external/local_xla/xla/stream_executor/cuda/cuda_dnn.cc:9261] Unable to register cuDNN factory: Attempting to register factory for plugin cuDNN when one has already been registered\n",
      "2023-11-20 10:41:02.253744: E external/local_xla/xla/stream_executor/cuda/cuda_fft.cc:607] Unable to register cuFFT factory: Attempting to register factory for plugin cuFFT when one has already been registered\n",
      "2023-11-20 10:41:02.254646: E external/local_xla/xla/stream_executor/cuda/cuda_blas.cc:1515] Unable to register cuBLAS factory: Attempting to register factory for plugin cuBLAS when one has already been registered\n",
      "2023-11-20 10:41:02.261035: I external/local_tsl/tsl/cuda/cudart_stub.cc:31] Could not find cuda drivers on your machine, GPU will not be used.\n",
      "2023-11-20 10:41:02.262076: I tensorflow/core/platform/cpu_feature_guard.cc:182] This TensorFlow binary is optimized to use available CPU instructions in performance-critical operations.\n",
      "To enable the following instructions: AVX2 FMA, in other operations, rebuild TensorFlow with the appropriate compiler flags.\n",
      "2023-11-20 10:41:03.144898: W tensorflow/compiler/tf2tensorrt/utils/py_utils.cc:38] TF-TRT Warning: Could not find TensorRT\n"
     ]
    }
   ],
   "source": [
    "import tensorflow as tf\n",
    "from tensorflow import keras\n",
    "from tensorflow.keras.preprocessing.image import load_img\n",
    "from tensorflow.keras.preprocessing.image import ImageDataGenerator\n",
    "from tensorflow.keras import layers, Sequential\n",
    "import numpy as np"
   ]
  },
  {
   "cell_type": "markdown",
   "id": "260c435d",
   "metadata": {},
   "source": [
    "**Question 1**"
   ]
  },
  {
   "cell_type": "code",
   "execution_count": 2,
   "id": "dcdf6137",
   "metadata": {},
   "outputs": [],
   "source": [
    "model = keras.Sequential()\n",
    "model.add(keras.Input(shape=(150, 150, 3)))\n",
    "model.add(layers.Conv2D(32, (3, 3), activation=\"relu\"))\n",
    "model.add(layers.MaxPooling2D((2, 2)))\n",
    "model.add(layers.Flatten())\n",
    "model.add(layers.Dense(64, activation=\"relu\"))\n",
    "model.add(layers.Dense(1, activation=\"sigmoid\"))\n",
    "\n",
    "model.compile(\n",
    "    optimizer=keras.optimizers.SGD(learning_rate=0.002, momentum=0.8),\n",
    "    loss=keras.losses.binary_crossentropy,\n",
    "    metrics=[\"accuracy\"]\n",
    ")"
   ]
  },
  {
   "cell_type": "markdown",
   "id": "2ddc9943",
   "metadata": {},
   "source": [
    "*Answer*: binary crossentropy"
   ]
  },
  {
   "cell_type": "markdown",
   "id": "cf2618d9",
   "metadata": {},
   "source": [
    "**Question 2**"
   ]
  },
  {
   "cell_type": "code",
   "execution_count": 3,
   "id": "5aaa9edb",
   "metadata": {},
   "outputs": [
    {
     "name": "stdout",
     "output_type": "stream",
     "text": [
      "Model: \"sequential\"\n",
      "_________________________________________________________________\n",
      " Layer (type)                Output Shape              Param #   \n",
      "=================================================================\n",
      " conv2d (Conv2D)             (None, 148, 148, 32)      896       \n",
      "                                                                 \n",
      " max_pooling2d (MaxPooling2  (None, 74, 74, 32)        0         \n",
      " D)                                                              \n",
      "                                                                 \n",
      " flatten (Flatten)           (None, 175232)            0         \n",
      "                                                                 \n",
      " dense (Dense)               (None, 64)                11214912  \n",
      "                                                                 \n",
      " dense_1 (Dense)             (None, 1)                 65        \n",
      "                                                                 \n",
      "=================================================================\n",
      "Total params: 11215873 (42.79 MB)\n",
      "Trainable params: 11215873 (42.79 MB)\n",
      "Non-trainable params: 0 (0.00 Byte)\n",
      "_________________________________________________________________\n"
     ]
    }
   ],
   "source": [
    "model.summary()"
   ]
  },
  {
   "cell_type": "markdown",
   "id": "b6f5c2be",
   "metadata": {},
   "source": [
    "*Answer*: 11.214.912"
   ]
  },
  {
   "cell_type": "code",
   "execution_count": 4,
   "id": "5f8becf2",
   "metadata": {},
   "outputs": [
    {
     "name": "stdout",
     "output_type": "stream",
     "text": [
      "Found 3677 images belonging to 2 classes.\n"
     ]
    }
   ],
   "source": [
    "train_gen = ImageDataGenerator(rescale=1./255)\n",
    "\n",
    "train_ds = train_gen.flow_from_directory(\n",
    "    directory = \"data/train/\",\n",
    "    class_mode=\"binary\",\n",
    "    target_size=(150, 150),\n",
    "    batch_size=20,\n",
    "    shuffle=True\n",
    ")"
   ]
  },
  {
   "cell_type": "code",
   "execution_count": 5,
   "id": "770005cd",
   "metadata": {},
   "outputs": [
    {
     "name": "stdout",
     "output_type": "stream",
     "text": [
      "Found 918 images belonging to 2 classes.\n"
     ]
    }
   ],
   "source": [
    "val_gen = ImageDataGenerator(rescale=1./255)\n",
    "\n",
    "val_ds = val_gen.flow_from_directory(\n",
    "    directory=\"data/test/\",\n",
    "    class_mode=\"binary\",\n",
    "    target_size=(150, 150),\n",
    "    batch_size = 20,\n",
    "    shuffle=True\n",
    ")"
   ]
  },
  {
   "cell_type": "code",
   "execution_count": 6,
   "id": "d7a3f339",
   "metadata": {
    "scrolled": false
   },
   "outputs": [
    {
     "name": "stdout",
     "output_type": "stream",
     "text": [
      "Epoch 1/10\n",
      "184/184 [==============================] - 33s 173ms/step - loss: 0.6507 - accuracy: 0.6059 - val_loss: 0.5839 - val_accuracy: 0.6917\n",
      "Epoch 2/10\n",
      "184/184 [==============================] - 29s 157ms/step - loss: 0.5701 - accuracy: 0.7085 - val_loss: 0.5686 - val_accuracy: 0.7048\n",
      "Epoch 3/10\n",
      "184/184 [==============================] - 28s 155ms/step - loss: 0.5344 - accuracy: 0.7414 - val_loss: 0.5360 - val_accuracy: 0.7505\n",
      "Epoch 4/10\n",
      "184/184 [==============================] - 28s 151ms/step - loss: 0.5019 - accuracy: 0.7634 - val_loss: 0.5729 - val_accuracy: 0.6972\n",
      "Epoch 5/10\n",
      "184/184 [==============================] - 29s 156ms/step - loss: 0.4980 - accuracy: 0.7664 - val_loss: 0.6139 - val_accuracy: 0.6699\n",
      "Epoch 6/10\n",
      "184/184 [==============================] - 28s 153ms/step - loss: 0.4533 - accuracy: 0.7963 - val_loss: 0.5027 - val_accuracy: 0.7647\n",
      "Epoch 7/10\n",
      "184/184 [==============================] - 28s 151ms/step - loss: 0.4217 - accuracy: 0.8145 - val_loss: 0.4918 - val_accuracy: 0.7778\n",
      "Epoch 8/10\n",
      "184/184 [==============================] - 27s 146ms/step - loss: 0.3969 - accuracy: 0.8281 - val_loss: 0.5018 - val_accuracy: 0.7560\n",
      "Epoch 9/10\n",
      "184/184 [==============================] - 27s 145ms/step - loss: 0.3630 - accuracy: 0.8518 - val_loss: 0.4949 - val_accuracy: 0.7669\n",
      "Epoch 10/10\n",
      "184/184 [==============================] - 26s 143ms/step - loss: 0.3354 - accuracy: 0.8665 - val_loss: 0.5567 - val_accuracy: 0.7462\n"
     ]
    }
   ],
   "source": [
    "history = model.fit(\n",
    "    train_ds,\n",
    "    epochs = 10,\n",
    "    validation_data=val_ds\n",
    ")"
   ]
  },
  {
   "cell_type": "code",
   "execution_count": 7,
   "id": "3e52bd34",
   "metadata": {},
   "outputs": [
    {
     "data": {
      "text/plain": [
       "{'loss': [0.6506722569465637,\n",
       "  0.5700570344924927,\n",
       "  0.5343623161315918,\n",
       "  0.5018885731697083,\n",
       "  0.49796798825263977,\n",
       "  0.45327427983283997,\n",
       "  0.42174139618873596,\n",
       "  0.3969385325908661,\n",
       "  0.36301565170288086,\n",
       "  0.3354427218437195],\n",
       " 'accuracy': [0.6059287190437317,\n",
       "  0.7084580063819885,\n",
       "  0.7413652539253235,\n",
       "  0.7633940577507019,\n",
       "  0.7663856148719788,\n",
       "  0.7963013052940369,\n",
       "  0.8145226836204529,\n",
       "  0.828120768070221,\n",
       "  0.8517813682556152,\n",
       "  0.8664672374725342],\n",
       " 'val_loss': [0.5838910937309265,\n",
       "  0.5685895681381226,\n",
       "  0.5360416173934937,\n",
       "  0.5729418396949768,\n",
       "  0.6138578653335571,\n",
       "  0.5026776790618896,\n",
       "  0.49183452129364014,\n",
       "  0.5018430948257446,\n",
       "  0.4949449300765991,\n",
       "  0.5566573143005371],\n",
       " 'val_accuracy': [0.6917211413383484,\n",
       "  0.7047930359840393,\n",
       "  0.7505446672439575,\n",
       "  0.6971677541732788,\n",
       "  0.6699346303939819,\n",
       "  0.7647058963775635,\n",
       "  0.7777777910232544,\n",
       "  0.7559912800788879,\n",
       "  0.7668845057487488,\n",
       "  0.7461873888969421]}"
      ]
     },
     "execution_count": 7,
     "metadata": {},
     "output_type": "execute_result"
    }
   ],
   "source": [
    "history.history"
   ]
  },
  {
   "cell_type": "markdown",
   "id": "8e105214",
   "metadata": {},
   "source": [
    "**Question 3**"
   ]
  },
  {
   "cell_type": "code",
   "execution_count": 8,
   "id": "36eeaf88",
   "metadata": {},
   "outputs": [
    {
     "data": {
      "text/plain": [
       "0.7813434600830078"
      ]
     },
     "execution_count": 8,
     "metadata": {},
     "output_type": "execute_result"
    }
   ],
   "source": [
    "np.median(history.history[\"accuracy\"])"
   ]
  },
  {
   "cell_type": "markdown",
   "id": "784f6e18",
   "metadata": {},
   "source": [
    "*Answer*: 0.80"
   ]
  },
  {
   "cell_type": "markdown",
   "id": "b47fa23a",
   "metadata": {},
   "source": [
    "**Question 4**"
   ]
  },
  {
   "cell_type": "code",
   "execution_count": 9,
   "id": "01dd990f",
   "metadata": {},
   "outputs": [
    {
     "data": {
      "text/plain": [
       "0.09275186654591087"
      ]
     },
     "execution_count": 9,
     "metadata": {},
     "output_type": "execute_result"
    }
   ],
   "source": [
    "np.std(history.history[\"loss\"])"
   ]
  },
  {
   "cell_type": "markdown",
   "id": "1dc6926e",
   "metadata": {},
   "source": [
    "*Answer:* 0.091"
   ]
  },
  {
   "cell_type": "markdown",
   "id": "cbd73736",
   "metadata": {},
   "source": [
    "**Data Augmentation**"
   ]
  },
  {
   "cell_type": "code",
   "execution_count": 10,
   "id": "ffa5d257",
   "metadata": {},
   "outputs": [
    {
     "name": "stdout",
     "output_type": "stream",
     "text": [
      "Found 3677 images belonging to 2 classes.\n"
     ]
    }
   ],
   "source": [
    "train_gen = ImageDataGenerator(\n",
    "    rotation_range = 50,\n",
    "    width_shift_range = 0.1,\n",
    "    height_shift_range = 0.1,\n",
    "    zoom_range = 0.1,\n",
    "    horizontal_flip = True,\n",
    "    fill_mode = \"nearest\"\n",
    ")\n",
    "\n",
    "train_ds = train_gen.flow_from_directory(\n",
    "    directory=\"data/train/\",\n",
    "    class_mode=\"binary\",\n",
    "    target_size=(150, 150),\n",
    "    batch_size=20,\n",
    "    shuffle=True\n",
    ")"
   ]
  },
  {
   "cell_type": "code",
   "execution_count": 11,
   "id": "ccb4bec6",
   "metadata": {},
   "outputs": [
    {
     "name": "stdout",
     "output_type": "stream",
     "text": [
      "Epoch 1/10\n",
      "184/184 [==============================] - 30s 162ms/step - loss: 764.1714 - accuracy: 0.5271 - val_loss: 0.7436 - val_accuracy: 0.4858\n",
      "Epoch 2/10\n",
      "184/184 [==============================] - 30s 161ms/step - loss: 0.6940 - accuracy: 0.5382 - val_loss: 0.7576 - val_accuracy: 0.4869\n",
      "Epoch 3/10\n",
      "184/184 [==============================] - 31s 169ms/step - loss: 0.6930 - accuracy: 0.5401 - val_loss: 0.7358 - val_accuracy: 0.5022\n",
      "Epoch 4/10\n",
      "184/184 [==============================] - 32s 172ms/step - loss: 0.6958 - accuracy: 0.5363 - val_loss: 0.7281 - val_accuracy: 0.5229\n",
      "Epoch 5/10\n",
      "184/184 [==============================] - 33s 181ms/step - loss: 0.6884 - accuracy: 0.5401 - val_loss: 0.7372 - val_accuracy: 0.5207\n",
      "Epoch 6/10\n",
      "184/184 [==============================] - 34s 186ms/step - loss: 0.6902 - accuracy: 0.5379 - val_loss: 0.7404 - val_accuracy: 0.5338\n",
      "Epoch 7/10\n",
      "184/184 [==============================] - 35s 188ms/step - loss: 0.6891 - accuracy: 0.5407 - val_loss: 0.7400 - val_accuracy: 0.5272\n",
      "Epoch 8/10\n",
      "184/184 [==============================] - 34s 185ms/step - loss: 0.6931 - accuracy: 0.5382 - val_loss: 0.7433 - val_accuracy: 0.5370\n",
      "Epoch 9/10\n",
      "184/184 [==============================] - 36s 194ms/step - loss: 0.6888 - accuracy: 0.5396 - val_loss: 0.7544 - val_accuracy: 0.5338\n",
      "Epoch 10/10\n",
      "184/184 [==============================] - 34s 186ms/step - loss: 0.6902 - accuracy: 0.5388 - val_loss: 0.7635 - val_accuracy: 0.5338\n"
     ]
    }
   ],
   "source": [
    "history = model.fit(\n",
    "    train_ds,\n",
    "    epochs = 10,\n",
    "    validation_data=val_ds\n",
    ")"
   ]
  },
  {
   "cell_type": "markdown",
   "id": "9261c59e",
   "metadata": {},
   "source": [
    "**Question 5**"
   ]
  },
  {
   "cell_type": "code",
   "execution_count": 12,
   "id": "88eb4b5b",
   "metadata": {},
   "outputs": [
    {
     "data": {
      "text/plain": [
       "0.7443910419940949"
      ]
     },
     "execution_count": 12,
     "metadata": {},
     "output_type": "execute_result"
    }
   ],
   "source": [
    "np.mean(history.history[\"val_loss\"])"
   ]
  },
  {
   "cell_type": "markdown",
   "id": "c27f8884",
   "metadata": {},
   "source": [
    "*Answer*: 0.78"
   ]
  },
  {
   "cell_type": "markdown",
   "id": "92852a78",
   "metadata": {},
   "source": [
    "**Question 6**"
   ]
  },
  {
   "cell_type": "code",
   "execution_count": 13,
   "id": "ac5d8c06",
   "metadata": {},
   "outputs": [
    {
     "data": {
      "text/plain": [
       "0.5331154704093933"
      ]
     },
     "execution_count": 13,
     "metadata": {},
     "output_type": "execute_result"
    }
   ],
   "source": [
    "np.mean(history.history[\"val_accuracy\"][5:])"
   ]
  },
  {
   "cell_type": "markdown",
   "id": "3a790547",
   "metadata": {},
   "source": [
    "*Answer:* 0.58"
   ]
  }
 ],
 "metadata": {
  "kernelspec": {
   "display_name": "saturn (Python 3)",
   "language": "python",
   "name": "python3"
  },
  "language_info": {
   "codemirror_mode": {
    "name": "ipython",
    "version": 3
   },
   "file_extension": ".py",
   "mimetype": "text/x-python",
   "name": "python",
   "nbconvert_exporter": "python",
   "pygments_lexer": "ipython3",
   "version": "3.11.2"
  }
 },
 "nbformat": 4,
 "nbformat_minor": 5
}
