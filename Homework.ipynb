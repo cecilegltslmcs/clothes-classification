{
 "cells": [
  {
   "cell_type": "code",
   "execution_count": 1,
   "id": "08a60b37",
   "metadata": {},
   "outputs": [
    {
     "name": "stderr",
     "output_type": "stream",
     "text": [
      "2023-11-19 20:49:43.792132: I tensorflow/core/util/util.cc:169] oneDNN custom operations are on. You may see slightly different numerical results due to floating-point round-off errors from different computation orders. To turn them off, set the environment variable `TF_ENABLE_ONEDNN_OPTS=0`.\n"
     ]
    }
   ],
   "source": [
    "import tensorflow as tf\n",
    "from tensorflow import keras\n",
    "TF_ENABLE_ONEDNN_OPTS=0\n",
    "from tensorflow.keras.preprocessing.image import load_img\n",
    "from tensorflow.keras.preprocessing.image import ImageDataGenerator\n",
    "from tensorflow.keras import layers, Sequential\n",
    "import numpy as np"
   ]
  },
  {
   "cell_type": "markdown",
   "id": "260c435d",
   "metadata": {},
   "source": [
    "**Question 1**"
   ]
  },
  {
   "cell_type": "code",
   "execution_count": 2,
   "id": "dcdf6137",
   "metadata": {},
   "outputs": [
    {
     "name": "stderr",
     "output_type": "stream",
     "text": [
      "2023-11-19 20:49:45.429344: I tensorflow/stream_executor/cuda/cuda_gpu_executor.cc:975] successful NUMA node read from SysFS had negative value (-1), but there must be at least one NUMA node, so returning NUMA node zero\n",
      "2023-11-19 20:49:45.438082: I tensorflow/stream_executor/cuda/cuda_gpu_executor.cc:975] successful NUMA node read from SysFS had negative value (-1), but there must be at least one NUMA node, so returning NUMA node zero\n",
      "2023-11-19 20:49:45.438957: I tensorflow/stream_executor/cuda/cuda_gpu_executor.cc:975] successful NUMA node read from SysFS had negative value (-1), but there must be at least one NUMA node, so returning NUMA node zero\n",
      "2023-11-19 20:49:45.440469: I tensorflow/core/platform/cpu_feature_guard.cc:193] This TensorFlow binary is optimized with oneAPI Deep Neural Network Library (oneDNN) to use the following CPU instructions in performance-critical operations:  AVX2 AVX512F AVX512_VNNI FMA\n",
      "To enable them in other operations, rebuild TensorFlow with the appropriate compiler flags.\n",
      "2023-11-19 20:49:45.440866: I tensorflow/stream_executor/cuda/cuda_gpu_executor.cc:975] successful NUMA node read from SysFS had negative value (-1), but there must be at least one NUMA node, so returning NUMA node zero\n",
      "2023-11-19 20:49:45.441681: I tensorflow/stream_executor/cuda/cuda_gpu_executor.cc:975] successful NUMA node read from SysFS had negative value (-1), but there must be at least one NUMA node, so returning NUMA node zero\n",
      "2023-11-19 20:49:45.442315: I tensorflow/stream_executor/cuda/cuda_gpu_executor.cc:975] successful NUMA node read from SysFS had negative value (-1), but there must be at least one NUMA node, so returning NUMA node zero\n",
      "2023-11-19 20:49:46.042905: I tensorflow/stream_executor/cuda/cuda_gpu_executor.cc:975] successful NUMA node read from SysFS had negative value (-1), but there must be at least one NUMA node, so returning NUMA node zero\n",
      "2023-11-19 20:49:46.043480: I tensorflow/stream_executor/cuda/cuda_gpu_executor.cc:975] successful NUMA node read from SysFS had negative value (-1), but there must be at least one NUMA node, so returning NUMA node zero\n",
      "2023-11-19 20:49:46.043983: I tensorflow/stream_executor/cuda/cuda_gpu_executor.cc:975] successful NUMA node read from SysFS had negative value (-1), but there must be at least one NUMA node, so returning NUMA node zero\n",
      "2023-11-19 20:49:46.044461: I tensorflow/core/common_runtime/gpu/gpu_device.cc:1532] Created device /job:localhost/replica:0/task:0/device:GPU:0 with 13795 MB memory:  -> device: 0, name: Tesla T4, pci bus id: 0000:00:1e.0, compute capability: 7.5\n"
     ]
    }
   ],
   "source": [
    "model = keras.Sequential()\n",
    "model.add(keras.Input(shape=(150, 150, 3)))\n",
    "model.add(layers.Conv2D(32, (3, 3), activation=\"relu\"))\n",
    "model.add(layers.MaxPooling2D((2, 2)))\n",
    "model.add(layers.Flatten())\n",
    "model.add(layers.Dense(64, activation=\"relu\"))\n",
    "model.add(layers.Dense(1, activation=\"sigmoid\"))\n",
    "\n",
    "model.compile(\n",
    "    optimizer=keras.optimizers.SGD(learning_rate=0.002, momentum=0.8),\n",
    "    loss=keras.losses.binary_crossentropy,\n",
    "    metrics=[\"accuracy\"]\n",
    ")"
   ]
  },
  {
   "cell_type": "markdown",
   "id": "2ddc9943",
   "metadata": {},
   "source": [
    "*Answer*: binary crossentropy"
   ]
  },
  {
   "cell_type": "markdown",
   "id": "cf2618d9",
   "metadata": {},
   "source": [
    "**Question 2**"
   ]
  },
  {
   "cell_type": "code",
   "execution_count": 3,
   "id": "5aaa9edb",
   "metadata": {},
   "outputs": [
    {
     "name": "stdout",
     "output_type": "stream",
     "text": [
      "Model: \"sequential\"\n",
      "_________________________________________________________________\n",
      " Layer (type)                Output Shape              Param #   \n",
      "=================================================================\n",
      " conv2d (Conv2D)             (None, 148, 148, 32)      896       \n",
      "                                                                 \n",
      " max_pooling2d (MaxPooling2D  (None, 74, 74, 32)       0         \n",
      " )                                                               \n",
      "                                                                 \n",
      " flatten (Flatten)           (None, 175232)            0         \n",
      "                                                                 \n",
      " dense (Dense)               (None, 64)                11214912  \n",
      "                                                                 \n",
      " dense_1 (Dense)             (None, 1)                 65        \n",
      "                                                                 \n",
      "=================================================================\n",
      "Total params: 11,215,873\n",
      "Trainable params: 11,215,873\n",
      "Non-trainable params: 0\n",
      "_________________________________________________________________\n"
     ]
    }
   ],
   "source": [
    "model.summary()"
   ]
  },
  {
   "cell_type": "markdown",
   "id": "b6f5c2be",
   "metadata": {},
   "source": [
    "*Answer*: 11.214.912"
   ]
  },
  {
   "cell_type": "code",
   "execution_count": 4,
   "id": "5f8becf2",
   "metadata": {},
   "outputs": [
    {
     "name": "stdout",
     "output_type": "stream",
     "text": [
      "Found 3677 images belonging to 2 classes.\n"
     ]
    }
   ],
   "source": [
    "train_gen = ImageDataGenerator(rescale=1./255)\n",
    "\n",
    "train_ds = train_gen.flow_from_directory(\n",
    "    directory = \"data/train/\",\n",
    "    class_mode=\"binary\",\n",
    "    target_size=(150, 150),\n",
    "    batch_size=20,\n",
    "    shuffle=True\n",
    ")"
   ]
  },
  {
   "cell_type": "code",
   "execution_count": 5,
   "id": "770005cd",
   "metadata": {},
   "outputs": [
    {
     "name": "stdout",
     "output_type": "stream",
     "text": [
      "Found 918 images belonging to 2 classes.\n"
     ]
    }
   ],
   "source": [
    "val_gen = ImageDataGenerator(rescale=1./255)\n",
    "\n",
    "val_ds = val_gen.flow_from_directory(\n",
    "    directory=\"data/test/\",\n",
    "    class_mode=\"binary\",\n",
    "    target_size=(150, 150),\n",
    "    batch_size = 20,\n",
    "    shuffle=True\n",
    ")"
   ]
  },
  {
   "cell_type": "code",
   "execution_count": 6,
   "id": "d7a3f339",
   "metadata": {
    "scrolled": false
   },
   "outputs": [
    {
     "name": "stdout",
     "output_type": "stream",
     "text": [
      "Epoch 1/10\n"
     ]
    },
    {
     "name": "stderr",
     "output_type": "stream",
     "text": [
      "2023-11-19 20:49:47.502390: I tensorflow/stream_executor/cuda/cuda_dnn.cc:384] Loaded cuDNN version 8100\n",
      "2023-11-19 20:49:48.115112: I tensorflow/core/platform/default/subprocess.cc:304] Start cannot spawn child process: No such file or directory\n",
      "2023-11-19 20:49:48.115560: I tensorflow/core/platform/default/subprocess.cc:304] Start cannot spawn child process: No such file or directory\n",
      "2023-11-19 20:49:48.115598: W tensorflow/stream_executor/gpu/asm_compiler.cc:80] Couldn't get ptxas version string: INTERNAL: Couldn't invoke ptxas --version\n",
      "2023-11-19 20:49:48.116029: I tensorflow/core/platform/default/subprocess.cc:304] Start cannot spawn child process: No such file or directory\n",
      "2023-11-19 20:49:48.116095: W tensorflow/stream_executor/gpu/redzone_allocator.cc:314] INTERNAL: Failed to launch ptxas\n",
      "Relying on driver to perform ptx compilation. \n",
      "Modify $PATH to customize ptxas location.\n",
      "This message will be only logged once.\n"
     ]
    },
    {
     "name": "stdout",
     "output_type": "stream",
     "text": [
      "184/184 [==============================] - 10s 42ms/step - loss: 0.6449 - accuracy: 0.6271 - val_loss: 0.5747 - val_accuracy: 0.7179\n",
      "Epoch 2/10\n",
      "184/184 [==============================] - 8s 41ms/step - loss: 0.5721 - accuracy: 0.7090 - val_loss: 0.5442 - val_accuracy: 0.7102\n",
      "Epoch 3/10\n",
      "184/184 [==============================] - 8s 41ms/step - loss: 0.5235 - accuracy: 0.7465 - val_loss: 0.5360 - val_accuracy: 0.7440\n",
      "Epoch 4/10\n",
      "184/184 [==============================] - 7s 41ms/step - loss: 0.4936 - accuracy: 0.7781 - val_loss: 0.5130 - val_accuracy: 0.7614\n",
      "Epoch 5/10\n",
      "184/184 [==============================] - 7s 41ms/step - loss: 0.4664 - accuracy: 0.7930 - val_loss: 0.5224 - val_accuracy: 0.7516\n",
      "Epoch 6/10\n",
      "184/184 [==============================] - 8s 41ms/step - loss: 0.4359 - accuracy: 0.8102 - val_loss: 0.5759 - val_accuracy: 0.7266\n",
      "Epoch 7/10\n",
      "184/184 [==============================] - 7s 40ms/step - loss: 0.4203 - accuracy: 0.8205 - val_loss: 0.5295 - val_accuracy: 0.7397\n",
      "Epoch 8/10\n",
      "184/184 [==============================] - 7s 41ms/step - loss: 0.3767 - accuracy: 0.8434 - val_loss: 0.4954 - val_accuracy: 0.7593\n",
      "Epoch 9/10\n",
      "184/184 [==============================] - 8s 41ms/step - loss: 0.3510 - accuracy: 0.8586 - val_loss: 0.4940 - val_accuracy: 0.7647\n",
      "Epoch 10/10\n",
      "184/184 [==============================] - 8s 41ms/step - loss: 0.3125 - accuracy: 0.8792 - val_loss: 0.5173 - val_accuracy: 0.7527\n"
     ]
    }
   ],
   "source": [
    "history = model.fit(\n",
    "    train_ds,\n",
    "    epochs = 10,\n",
    "    validation_data=val_ds\n",
    ")"
   ]
  },
  {
   "cell_type": "code",
   "execution_count": 7,
   "id": "3e52bd34",
   "metadata": {},
   "outputs": [
    {
     "data": {
      "text/plain": [
       "{'loss': [0.644934356212616,\n",
       "  0.5721166729927063,\n",
       "  0.5234882831573486,\n",
       "  0.4936160147190094,\n",
       "  0.4664487838745117,\n",
       "  0.4359154999256134,\n",
       "  0.4203437864780426,\n",
       "  0.3767138421535492,\n",
       "  0.35101011395454407,\n",
       "  0.3124789595603943],\n",
       " 'accuracy': [0.6271417140960693,\n",
       "  0.709001898765564,\n",
       "  0.7465324997901917,\n",
       "  0.7780799269676208,\n",
       "  0.7930378317832947,\n",
       "  0.8101713061332703,\n",
       "  0.8205058574676514,\n",
       "  0.8433505296707153,\n",
       "  0.8585803508758545,\n",
       "  0.8792493939399719],\n",
       " 'val_loss': [0.5746834874153137,\n",
       "  0.5442469716072083,\n",
       "  0.5359513759613037,\n",
       "  0.5129605531692505,\n",
       "  0.5223721265792847,\n",
       "  0.5759196877479553,\n",
       "  0.5294574499130249,\n",
       "  0.49544936418533325,\n",
       "  0.49401792883872986,\n",
       "  0.5173048973083496],\n",
       " 'val_accuracy': [0.7178649306297302,\n",
       "  0.7102396488189697,\n",
       "  0.7440087199211121,\n",
       "  0.7614378929138184,\n",
       "  0.7516340017318726,\n",
       "  0.7265795469284058,\n",
       "  0.7396514415740967,\n",
       "  0.7592592835426331,\n",
       "  0.7647058963775635,\n",
       "  0.7527233362197876]}"
      ]
     },
     "execution_count": 7,
     "metadata": {},
     "output_type": "execute_result"
    }
   ],
   "source": [
    "history.history"
   ]
  },
  {
   "cell_type": "markdown",
   "id": "8e105214",
   "metadata": {},
   "source": [
    "**Question 3**"
   ]
  },
  {
   "cell_type": "code",
   "execution_count": 8,
   "id": "36eeaf88",
   "metadata": {},
   "outputs": [
    {
     "data": {
      "text/plain": [
       "0.8016045689582825"
      ]
     },
     "execution_count": 8,
     "metadata": {},
     "output_type": "execute_result"
    }
   ],
   "source": [
    "np.median(history.history[\"accuracy\"])"
   ]
  },
  {
   "cell_type": "markdown",
   "id": "784f6e18",
   "metadata": {},
   "source": [
    "*Answer*: 0.80"
   ]
  },
  {
   "cell_type": "markdown",
   "id": "b47fa23a",
   "metadata": {},
   "source": [
    "**Question 4**"
   ]
  },
  {
   "cell_type": "code",
   "execution_count": 11,
   "id": "01dd990f",
   "metadata": {},
   "outputs": [
    {
     "data": {
      "text/plain": [
       "0.09731541723296534"
      ]
     },
     "execution_count": 11,
     "metadata": {},
     "output_type": "execute_result"
    }
   ],
   "source": [
    "np.std(history.history[\"loss\"])"
   ]
  },
  {
   "cell_type": "markdown",
   "id": "1dc6926e",
   "metadata": {},
   "source": [
    "*Answer:* 0.091"
   ]
  },
  {
   "cell_type": "markdown",
   "id": "cbd73736",
   "metadata": {},
   "source": [
    "**Data Augmentation**"
   ]
  },
  {
   "cell_type": "code",
   "execution_count": 14,
   "id": "ffa5d257",
   "metadata": {},
   "outputs": [
    {
     "name": "stdout",
     "output_type": "stream",
     "text": [
      "Found 3677 images belonging to 2 classes.\n"
     ]
    }
   ],
   "source": [
    "train_gen = ImageDataGenerator(\n",
    "    rotation_range = 50,\n",
    "    width_shift_range = 0.1,\n",
    "    height_shift_range = 0.1,\n",
    "    zoom_range = 0.1,\n",
    "    horizontal_flip = True,\n",
    "    fill_mode = \"nearest\"\n",
    ")\n",
    "\n",
    "train_ds = train_gen.flow_from_directory(\n",
    "    directory=\"data/train/\",\n",
    "    class_mode=\"binary\",\n",
    "    target_size=(150, 150),\n",
    "    batch_size=20,\n",
    "    shuffle=True\n",
    ")"
   ]
  },
  {
   "cell_type": "code",
   "execution_count": 16,
   "id": "ccb4bec6",
   "metadata": {},
   "outputs": [
    {
     "name": "stdout",
     "output_type": "stream",
     "text": [
      "Epoch 1/10\n",
      "184/184 [==============================] - 21s 116ms/step - loss: 265.9388 - accuracy: 0.5205 - val_loss: 0.6929 - val_accuracy: 0.5338\n",
      "Epoch 2/10\n",
      "184/184 [==============================] - 21s 117ms/step - loss: 0.6956 - accuracy: 0.5382 - val_loss: 0.6909 - val_accuracy: 0.5349\n",
      "Epoch 3/10\n",
      "184/184 [==============================] - 21s 115ms/step - loss: 0.6905 - accuracy: 0.5377 - val_loss: 0.6894 - val_accuracy: 0.5370\n",
      "Epoch 4/10\n",
      "184/184 [==============================] - 21s 116ms/step - loss: 0.6903 - accuracy: 0.5382 - val_loss: 0.7255 - val_accuracy: 0.5370\n",
      "Epoch 5/10\n",
      "184/184 [==============================] - 21s 116ms/step - loss: 0.6906 - accuracy: 0.5396 - val_loss: 0.6964 - val_accuracy: 0.5359\n",
      "Epoch 6/10\n",
      "184/184 [==============================] - 21s 116ms/step - loss: 0.6918 - accuracy: 0.5385 - val_loss: 0.6887 - val_accuracy: 0.5425\n",
      "Epoch 7/10\n",
      "184/184 [==============================] - 21s 116ms/step - loss: 0.6898 - accuracy: 0.5393 - val_loss: 0.6894 - val_accuracy: 0.5425\n",
      "Epoch 8/10\n",
      "184/184 [==============================] - 21s 117ms/step - loss: 0.6898 - accuracy: 0.5409 - val_loss: 0.6892 - val_accuracy: 0.5425\n",
      "Epoch 9/10\n",
      "184/184 [==============================] - 21s 116ms/step - loss: 0.6898 - accuracy: 0.5404 - val_loss: 0.6896 - val_accuracy: 0.5403\n",
      "Epoch 10/10\n",
      "184/184 [==============================] - 21s 116ms/step - loss: 0.6901 - accuracy: 0.5379 - val_loss: 0.6899 - val_accuracy: 0.5381\n"
     ]
    }
   ],
   "source": [
    "history = model.fit(\n",
    "    train_ds,\n",
    "    epochs = 10,\n",
    "    validation_data=val_ds\n",
    ")"
   ]
  },
  {
   "cell_type": "markdown",
   "id": "9261c59e",
   "metadata": {},
   "source": [
    "**Question 5**"
   ]
  },
  {
   "cell_type": "code",
   "execution_count": 17,
   "id": "88eb4b5b",
   "metadata": {},
   "outputs": [
    {
     "data": {
      "text/plain": [
       "0.6941786170005798"
      ]
     },
     "execution_count": 17,
     "metadata": {},
     "output_type": "execute_result"
    }
   ],
   "source": [
    "np.mean(history.history[\"val_loss\"])"
   ]
  },
  {
   "cell_type": "markdown",
   "id": "c27f8884",
   "metadata": {},
   "source": [
    "*Answer*: 0.78"
   ]
  },
  {
   "cell_type": "markdown",
   "id": "92852a78",
   "metadata": {},
   "source": [
    "**Question 6**"
   ]
  },
  {
   "cell_type": "code",
   "execution_count": 19,
   "id": "ac5d8c06",
   "metadata": {},
   "outputs": [
    {
     "data": {
      "text/plain": [
       "0.5411764860153199"
      ]
     },
     "execution_count": 19,
     "metadata": {},
     "output_type": "execute_result"
    }
   ],
   "source": [
    "np.mean(history.history[\"val_accuracy\"][5:])"
   ]
  },
  {
   "cell_type": "markdown",
   "id": "3a790547",
   "metadata": {},
   "source": [
    "*Answer:* 0.58"
   ]
  }
 ],
 "metadata": {
  "kernelspec": {
   "display_name": "saturn (Python 3)",
   "language": "python",
   "name": "python3"
  },
  "language_info": {
   "codemirror_mode": {
    "name": "ipython",
    "version": 3
   },
   "file_extension": ".py",
   "mimetype": "text/x-python",
   "name": "python",
   "nbconvert_exporter": "python",
   "pygments_lexer": "ipython3",
   "version": "3.9.13"
  }
 },
 "nbformat": 4,
 "nbformat_minor": 5
}
